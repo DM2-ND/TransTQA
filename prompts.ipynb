{
 "cells": [
  {
   "cell_type": "code",
   "execution_count": 1,
   "metadata": {},
   "outputs": [
    {
     "name": "stderr",
     "output_type": "stream",
     "text": [
      "/opt/conda/envs/rerank/lib/python3.8/site-packages/tqdm/auto.py:22: TqdmWarning: IProgress not found. Please update jupyter and ipywidgets. See https://ipywidgets.readthedocs.io/en/stable/user_install.html\n",
      "  from .autonotebook import tqdm as notebook_tqdm\n"
     ]
    }
   ],
   "source": [
    "from transformers import T5Tokenizer, T5ForConditionalGeneration\n",
    "import torch"
   ]
  },
  {
   "cell_type": "code",
   "execution_count": 3,
   "metadata": {},
   "outputs": [],
   "source": [
    "# t5model = T5ForConditionalGeneration.from_pretrained('bigscience/T0_3B', torch_dtype=torch.float32).cuda()\n",
    "t5model = T5ForConditionalGeneration.from_pretrained('google/flan-t5-large', torch_dtype=torch.float32).cuda()\n",
    "device = torch.device('cuda')\n",
    "tokenizer = T5Tokenizer.from_pretrained('google/flan-t5-large')"
   ]
  },
  {
   "cell_type": "code",
   "execution_count": 3,
   "metadata": {},
   "outputs": [
    {
     "name": "stderr",
     "output_type": "stream",
     "text": [
      "Downloading: 100%|██████████| 792k/792k [00:00<00:00, 38.3MB/s]\n",
      "Downloading: 100%|██████████| 2.20k/2.20k [00:00<00:00, 3.40MB/s]\n",
      "Downloading: 100%|██████████| 2.54k/2.54k [00:00<00:00, 3.90MB/s]\n"
     ]
    }
   ],
   "source": [
    "# device = torch.device('cuda')\n",
    "# tokenizer = T5Tokenizer.from_pretrained('google/flan-t5-large')"
   ]
  },
  {
   "cell_type": "code",
   "execution_count": 4,
   "metadata": {},
   "outputs": [],
   "source": [
    "for param in t5model.parameters():\n",
    "    param.requires_grad = False\n",
    "    \n",
    "t5model = t5model.to(device)\n",
    "\n",
    "t5model = t5model.eval()"
   ]
  },
  {
   "cell_type": "code",
   "execution_count": 5,
   "metadata": {},
   "outputs": [],
   "source": [
    "def get_answer(prompt):\n",
    "    input_encoding = tokenizer(prompt ,padding='longest',max_length=512,pad_to_multiple_of=8,truncation=True,return_tensors='pt').to(device)\n",
    "    print(tokenizer(prompt ,return_tensors='pt').to(device).input_ids.shape)\n",
    "    print(input_encoding.input_ids.shape)\n",
    "    return tokenizer.decode(t5model.generate(input_encoding.input_ids)[0], skip_special_tokens=True)"
   ]
  },
  {
   "cell_type": "code",
   "execution_count": 20,
   "metadata": {},
   "outputs": [
    {
     "name": "stdout",
     "output_type": "stream",
     "text": [
      "torch.Size([1, 43])\n",
      "torch.Size([1, 48])\n"
     ]
    },
    {
     "data": {
      "text/plain": [
       "'no'"
      ]
     },
     "execution_count": 20,
     "metadata": {},
     "output_type": "execute_result"
    }
   ],
   "source": [
    "# text = '''Import the certification file into the agent by doing the following command:\n",
    "\n",
    "# Note : You can use either .cer or .pem.\n",
    "# Make sure the file is in ASCII not binary.\n",
    "# Where the /usr/ITM/JRE is your Java location and <fileName> is your file name.'''\n",
    "\n",
    "# text = 'A CSV document is basically a plain text file. If the mime type of the document as shown in system properties in ICN is not text/csv, then Navigator cannot recognize the document and a .dat extension will be added upon download. The correct mime type for a CSV file is text/csv. '\n",
    "# text = 'The transaction timeout for RTS/DC is set to 10 minutes by default in the teamserver web module deployment descriptor (WEB-INF/web.xml), and application servers also have container level transaction timeouts that are configurable. If a transactional operation performed by RTS/DC takes longer than these timeouts to complete, the transaction is rolled back and the operation is not completed.'\n",
    "# text = '''\n",
    "\n",
    "# During web server start-up, errors indicating failures are logged in the plug-in log file (http_plugin.log):\n",
    "\n",
    "# ERROR: lib_security: loadSecurityLibrary: Failed to load gsk library from opt/IBM/WebSphere/Plugins/gsk8/gsk8_64\n",
    "# ERROR: ws_transport: transportInitializeSecurity: Unable to load security library\n",
    "# ERROR: ws_server: serverAddTransport: Failed to initialize security\n",
    "# ERROR: ws_server: serverAddTransport: HTTPS Transport is skipped\n",
    "\n",
    "# If an older level of the GSkit library is present in the /usr directory, plug-in connection handshake failures occur with GSK_ERROR_BAD_PEER related messages.\n",
    "# '''\n",
    "# prompt = f'Passage: {text}. Please generate a how-to problem statement for this passage.'\n",
    "# prompt = f'Cause: {text}. Please generate a problem statement for the above cause.'\n",
    "example1 = 'Passage: CVEID:CVE-2017-14919 [http://cve.mitre.org/cgi-bin/cvename.cgi?name=CVE-2017-14919]DESCRIPTION:Node.js is vulnerable to a denial of service, caused by an uncaught exception flaw in the zlib module. Query: Help with Security Bulletin: API Connect is affected by a Node.js denial of service vulnerability (CVE-2017-14919). Where can I find this information?'\n",
    "example2 = 'Passage: If an issue arises during DW trace persistence at runtime, the related messages and stack traces are only available programmatically through the following API: ilog.rules.res.session.IlrSessionResponse.getWarnings() So it is possible for an error to remain silent if the warnings above are not explicitly logged by the application. Query: No trace is logged in Decision Warehouse, and no records in EXECUTION_TRACES table for a certain ruleset. How can I debug this issue?'\n",
    "# # prompt = f'Please generate a how-to problem statement for this passage. Below are some examples separated by xxxxx: \\n {example1} xxxxx \\n {example2}\\n. Passage: {text}. Question:'\n",
    "text = 'When the complete path to the silent response file is not specified as part of the command invoking the silent install, it fails with the following error message in the log file'\n",
    "text = 'If silent unisntall fails, then reinstall'\n",
    "question = 'Silent uninstall of ITCAM for MQ agent fails'\n",
    "prompt = f'Passage: {text}. Question: {question}. Does the question and answer have overlapping data?'\n",
    "# prompt = '''Passage: CVEID:CVE-2017-14919 [http://cve.mitre.org/cgi-bin/cvename.cgi?name=CVE-2017-14919]DESCRIPTION:Node.js is vulnerable to a denial of service, caused by an uncaught exception flaw in the zlib module. Query: Help with Security Bulletin: API Connect is affected by a Node.js denial of service vulnerability (CVE-2017-14919). Where can I find this information?'\n",
    "# Passage: If an issue arises during DW trace persistence at runtime, the related messages and stack traces are only available programmatically through the following API: ilog.rules.res.session.IlrSessionResponse.getWarnings() So it is possible for an error to remain silent if the warnings above are not explicitly logged by the application. Query: No trace is logged in Decision Warehouse, and no records in EXECUTION_TRACES table for a certain ruleset. How can I debug this issue?\n",
    "# Passage: When the complete path to the silent response file is not specified as part of the command invoking the silent install, it fails with the following error message in the log file. Query:'''\n",
    "\n",
    "get_answer(prompt)"
   ]
  },
  {
   "cell_type": "code",
   "execution_count": 9,
   "metadata": {},
   "outputs": [
    {
     "data": {
      "text/plain": [
       "'Passage: When the complete path to the silent response file is not specified as part of the command invoking the silent install, it fails with the following error message in the log file. Question: Silent uninstall of ITCAM for MQ agent fails. Does the passage answer the question?'"
      ]
     },
     "execution_count": 9,
     "metadata": {},
     "output_type": "execute_result"
    }
   ],
   "source": [
    "prompt"
   ]
  },
  {
   "cell_type": "code",
   "execution_count": null,
   "metadata": {},
   "outputs": [],
   "source": []
  }
 ],
 "metadata": {
  "kernelspec": {
   "display_name": "Python 3.8.13 ('rerank')",
   "language": "python",
   "name": "python3"
  },
  "language_info": {
   "codemirror_mode": {
    "name": "ipython",
    "version": 3
   },
   "file_extension": ".py",
   "mimetype": "text/x-python",
   "name": "python",
   "nbconvert_exporter": "python",
   "pygments_lexer": "ipython3",
   "version": "3.8.13"
  },
  "orig_nbformat": 4,
  "vscode": {
   "interpreter": {
    "hash": "4b3009080e5918fa9426c4c24509b1306a01a98624bb63725c14519011dedab2"
   }
  }
 },
 "nbformat": 4,
 "nbformat_minor": 2
}
